{
 "cells": [
  {
   "cell_type": "code",
   "id": "initial_id",
   "metadata": {
    "collapsed": true,
    "ExecuteTime": {
     "end_time": "2025-02-25T05:02:24.536165Z",
     "start_time": "2025-02-25T05:02:09.165750Z"
    }
   },
   "source": [
    "import pandas as pd\n",
    "data1 = pd.read_excel(\"./Global Superstore 2011-2014.xlsx\", sheet_name=\"Orders\")\n",
    "data2 = pd.read_excel(\"./Global Superstore 2014-2017.xlsx\", sheet_name=\"Orders\")"
   ],
   "outputs": [],
   "execution_count": 3
  },
  {
   "metadata": {
    "ExecuteTime": {
     "end_time": "2025-02-25T05:10:07.104462Z",
     "start_time": "2025-02-25T05:10:06.386666Z"
    }
   },
   "cell_type": "code",
   "source": [
    "data2 = data2[data1.columns]\n",
    "merged_df = pd.concat([data1, data2], axis=0, ignore_index=True)\n",
    "merged_df.to_csv(\"./merged_data.csv\", index=False)"
   ],
   "id": "d539687967a886b4",
   "outputs": [],
   "execution_count": 15
  },
  {
   "metadata": {
    "ExecuteTime": {
     "end_time": "2025-02-25T05:39:51.388355Z",
     "start_time": "2025-02-25T05:39:51.373615Z"
    }
   },
   "cell_type": "code",
   "source": "merged_df['Product Name'].unique()",
   "id": "21c860ab15e70069",
   "outputs": [
    {
     "data": {
      "text/plain": [
       "array(['Plantronics CS510 - Over-the-Head monaural Wireless Headset System',\n",
       "       'Novimex Executive Leather Armchair, Black',\n",
       "       'Nokia Smart Phone, with Caller ID', ...,\n",
       "       'Anker Ultrathin Bluetooth Wireless Keyboard Aluminum Cover with Stand',\n",
       "       'Iceberg Mobile Mega Data/Printer Cart',\n",
       "       'Kensington SlimBlade Notebook Wireless Mouse with Nano Receiver'],\n",
       "      dtype=object)"
      ]
     },
     "execution_count": 19,
     "metadata": {},
     "output_type": "execute_result"
    }
   ],
   "execution_count": 19
  }
 ],
 "metadata": {
  "kernelspec": {
   "display_name": "Python 3",
   "language": "python",
   "name": "python3"
  },
  "language_info": {
   "codemirror_mode": {
    "name": "ipython",
    "version": 2
   },
   "file_extension": ".py",
   "mimetype": "text/x-python",
   "name": "python",
   "nbconvert_exporter": "python",
   "pygments_lexer": "ipython2",
   "version": "2.7.6"
  }
 },
 "nbformat": 4,
 "nbformat_minor": 5
}
